{
  "cells": [
    {
      "cell_type": "markdown",
      "metadata": {
        "id": "O5tc2tG1hovA"
      },
      "source": [
        "#1. Εισαγωγή δεδομένων και προεργασία"
      ]
    },
    {
      "cell_type": "code",
      "execution_count": null,
      "metadata": {
        "id": "JsmPCei7czeq"
      },
      "outputs": [],
      "source": [
        "import pandas as pd\n",
        "from IPython.display import Markdown"
      ]
    },
    {
      "cell_type": "code",
      "execution_count": null,
      "metadata": {
        "id": "ZCmA_c19gVj7"
      },
      "outputs": [],
      "source": [
        "df_training = pd.read_csv('/content/isolet1+2+3+4.data')\n",
        "df_testing = pd.read_csv('/content/isolet5.data')\n",
        "\n",
        "df_training.dropna(inplace=True)\n",
        "df_testing.dropna(inplace=True)"
      ]
    },
    {
      "cell_type": "code",
      "execution_count": null,
      "metadata": {
        "colab": {
          "base_uri": "https://localhost:8080/",
          "height": 699
        },
        "id": "S4BJdL07h0eH",
        "outputId": "73e37566-e4de-4a6e-9fe4-e47b1726cd0f"
      },
      "outputs": [
        {
          "output_type": "stream",
          "name": "stdout",
          "text": [
            "The target variable values that are present in the data set are [1.0 - 26.0]\n",
            "\n",
            "[(2.0, 300), (3.0, 300), (4.0, 300), (5.0, 300), (7.0, 300), (8.0, 300), (9.0, 300), (10.0, 300), (11.0, 300), (12.0, 300), (14.0, 300), (15.0, 300), (16.0, 300), (17.0, 300), (18.0, 300), (19.0, 300), (20.0, 300), (21.0, 300), (22.0, 300), (23.0, 300), (24.0, 300), (25.0, 300), (26.0, 300), (13.0, 299), (1.0, 298), (6.0, 298)]\n"
          ]
        },
        {
          "output_type": "display_data",
          "data": {
            "text/plain": [
              "<Figure size 720x720 with 1 Axes>"
            ],
            "image/png": "[encoded data removed]"
          },
          "metadata": {
            "needs_background": "light"
          }
        },
        {
          "output_type": "stream",
          "name": "stdout",
          "text": [
            "\n",
            "\n"
          ]
        }
      ],
      "source": [
        "import matplotlib.pyplot as plt\n",
        "\n",
        "list_targets = df_training.iloc[:, -1].tolist()\n",
        "\n",
        "\n",
        "def minmax(alist, flag):\n",
        "    min_value = min(alist)\n",
        "    max_value = max(alist)\n",
        "\n",
        "    if flag:\n",
        "        print(f\"The target variable values that are present in the data set are [{min_value} - {max_value}]\\n\")\n",
        "    else: \n",
        "        print(f\"The independent variable values that are present in the data set are [{min_value} - {max_value}]\\n\")\n",
        "\n",
        "minmax(list_targets, 1)\n",
        "\n",
        "list_targets_testing = df_testing.iloc[:, -1].tolist()\n",
        "united_list = list_targets + list_targets_testing\n",
        "\n",
        "def counterElem(alist):\n",
        "\n",
        "    locDic = {}\n",
        "    for j in alist:\n",
        "        if j in locDic:\n",
        "            locDic[j] += 1\n",
        "        else:\n",
        "            locDic[j] = 1\n",
        "\n",
        "    return locDic\n",
        "\n",
        "print(sorted(counterElem(united_list).items(),key = lambda x:x[1], reverse = True))\n",
        "\n",
        "plt.figure(figsize = (10, 10))\n",
        "plt.hist(united_list, bins = 10)\n",
        "plt.show()\n",
        "print(\"\\n\")"
      ]
    },
    {
      "cell_type": "code",
      "execution_count": null,
      "metadata": {
        "colab": {
          "base_uri": "https://localhost:8080/"
        },
        "id": "Am-D81HvqyVD",
        "outputId": "81239135-3fb6-4a7b-c268-f2b56f7b0969"
      },
      "outputs": [
        {
          "output_type": "stream",
          "name": "stdout",
          "text": [
            "The independent variable values that are present in the data set are [ -0.0034 - -0.4394]\n",
            "\n"
          ]
        }
      ],
      "source": [
        "list_targets2 = df_training.iloc[:, :-2]\n",
        "minmax(list_targets2, 0)"
      ]
    },
    {
      "cell_type": "markdown",
      "metadata": {
        "id": "VwPG5d2_MPot"
      },
      "source": [
        "#2. Συσταδοποιήση"
      ]
    },
    {
      "cell_type": "markdown",
      "metadata": {
        "id": "vNORhvweMjJ0"
      },
      "source": [
        "##k-Means clustering"
      ]
    },
    {
      "cell_type": "code",
      "execution_count": null,
      "metadata": {
        "colab": {
          "base_uri": "https://localhost:8080/"
        },
        "id": "a9QSmeMyAGvT",
        "outputId": "320af655-a90a-4e6d-ae50-33a829b7dd2b"
      },
      "outputs": [
        {
          "output_type": "execute_result",
          "data": {
            "text/plain": [
              "0.14324305851213173"
            ]
          },
          "metadata": {},
          "execution_count": 10
        }
      ],
      "source": [
        "from sklearn.cluster import KMeans\n",
        "from sklearn.metrics import silhouette_score\n",
        "\n",
        "kmeans = KMeans(26)\n",
        "kmeans_clustering = kmeans.fit(df_training)\n",
        "\n",
        "\n",
        "#plt.subplot(2,2)\n",
        "#plt.scatter(df_training[:,0], df_training[:,1])\n",
        "\n",
        "silhouette_score(df_training, kmeans_clustering.labels_)"
      ]
    },
    {
      "cell_type": "code",
      "execution_count": null,
      "metadata": {
        "colab": {
          "base_uri": "https://localhost:8080/"
        },
        "id": "0dzeIEA4t9Tn",
        "outputId": "8cffe648-2779-4020-c3ec-f6f462cb8155"
      },
      "outputs": [
        {
          "output_type": "execute_result",
          "data": {
            "text/plain": [
              "0.14110271673502572"
            ]
          },
          "metadata": {},
          "execution_count": 11
        }
      ],
      "source": [
        "from sklearn.cluster import AgglomerativeClustering\n",
        "\n",
        "agglo = AgglomerativeClustering(26)\n",
        "agglomer_clustering = agglo.fit(df_training)\n",
        "\n",
        "silhouette_score(df_training, agglomer_clustering.labels_)"
      ]
    },
    {
      "cell_type": "markdown",
      "metadata": {
        "id": "rhS4PnEqtxVp"
      },
      "source": [
        "Πολύ κακό silhouette_score, απο αυτό εύκολα μπορεί να συμπεράνει κανείς οτι είναι κακή η ποιότητα των συσταδοποιήσεων. Τα δεδομένα μας δεν έχουν τόσο μεγάλη απόσταση, για να μπορούν να διαχωριστούν τόσο λεπτομερώς. Γενικότερα ο ορισμός μεγάλου αριθμού συστάδων κάνει πιο δύσκολη την διαδικασία της συσταδοποιήσης."
      ]
    },
    {
      "cell_type": "markdown",
      "metadata": {
        "id": "N2aEitC82RZ2"
      },
      "source": [
        "#3. Ταξινόμηση"
      ]
    },
    {
      "cell_type": "markdown",
      "metadata": {
        "id": "pNtG6xtc2zp5"
      },
      "source": [
        "## k-NN"
      ]
    },
    {
      "cell_type": "code",
      "execution_count": null,
      "metadata": {
        "colab": {
          "base_uri": "https://localhost:8080/",
          "height": 135
        },
        "id": "XcVB1WW71oQA",
        "outputId": "38bba365-7f97-48f5-b1dd-39cf17af83ef"
      },
      "outputs": [
        {
          "output_type": "display_data",
          "data": {
            "text/plain": [
              "<IPython.core.display.Markdown object>"
            ],
            "text/markdown": "### Αποτελέσματα k-nearest neighbors classification:\n**Best k**: 9<br>**Best Cross-Val Accuracy**: 0.88<br>**Test Set 1-Accuracy**: 0.90<br>**Time taken to execute**: 26.70<br>"
          },
          "metadata": {}
        }
      ],
      "source": [
        "from sklearn.model_selection import train_test_split, GridSearchCV\n",
        "from sklearn.neighbors import KNeighborsClassifier \n",
        "from sklearn.metrics import accuracy_score\n",
        "from sklearn.pipeline import Pipeline\n",
        "import time\n",
        "\n",
        "starting_time = time.time()\n",
        "\n",
        "X = df_training.iloc[:, :-2]\n",
        "y = df_training.iloc[:,-1]\n",
        "\n",
        "X_train,X_test,y_train,y_test = train_test_split(X,y,test_size = 0.3)\n",
        "\n",
        "params = {\n",
        "            'kNNClassifier__n_neighbors':   range(1,10),\n",
        "            'kNNClassifier__weights':   ['uniform', 'distance']\n",
        "        }\n",
        "\n",
        "knn_pipeline=Pipeline([('Scaler',  StandardScaler()),\n",
        "            ('kNNClassifier', KNeighborsClassifier())])\n",
        "\n",
        "\n",
        "grid = GridSearchCV(estimator = knn_pipeline, cv= 5,  param_grid = params)\n",
        "\n",
        "grid.fit(X_train, y_train)\n",
        "y_train_pred = grid.predict(X_train)\n",
        "y_test_pred = grid.predict(X_test)\n",
        "\n",
        "finish_time = time.time()\n",
        "elapsed_time = finish_time - starting_time\n",
        "\n",
        "display(Markdown(\n",
        "    \"### Αποτελέσματα k-nearest neighbors classification:\\n\" +\n",
        "    \"**Best k**: {}\".format(grid.best_params_['kNNClassifier__n_neighbors'])  + \"<br>\" +\n",
        "    \"**Best Cross-Val Accuracy**: {:.2f}\".format(grid.best_score_) + \"<br>\" +\n",
        "    \"**Test Set 1-Accuracy**: {:.2f}\".format(accuracy_score(y_test, y_test_pred)) + \"<br>\" +\n",
        "    \"**Time taken to execute**: {:.2f}\".format(elapsed_time) + \"<br>\"\n",
        "))"
      ]
    },
    {
      "cell_type": "markdown",
      "metadata": {
        "id": "Kf7omf9UQ7uK"
      },
      "source": [
        "## Logistic Regression"
      ]
    },
    {
      "cell_type": "code",
      "execution_count": null,
      "metadata": {
        "colab": {
          "base_uri": "https://localhost:8080/",
          "height": 118
        },
        "id": "kQMZ-wdrRAT6",
        "outputId": "775d515d-d6a8-4a48-e991-efef3ad54b2d"
      },
      "outputs": [
        {
          "output_type": "display_data",
          "data": {
            "text/plain": [
              "<IPython.core.display.Markdown object>"
            ],
            "text/markdown": "### Αποτελέσματα λογιστικής παλινδρόμησης:\n**Best lambda**: 0.016<br>**Test Set 1-Accuracy**: 0.95<br>**Time taken to execute**: 2148.08<br>"
          },
          "metadata": {}
        }
      ],
      "source": [
        "from sklearn.linear_model import LogisticRegression\n",
        "import numpy as np\n",
        "from sklearn.metrics import accuracy_score\n",
        "import time\n",
        "from sklearn.preprocessing import StandardScaler\n",
        "\n",
        "\n",
        "scaler = StandardScaler().fit(X_train)\n",
        "X_train = scaler.transform(X_train)\n",
        "X_test = scaler.transform(X_test)\n",
        "\n",
        "log_reg_pipeline=Pipeline([('Scaler',  StandardScaler()),\n",
        "            ('LogRegClassifier', LogisticRegression(max_iter=1000))])\n",
        "\n",
        "starting_time = time.time()\n",
        "\n",
        "params = { \n",
        "            'LogRegClassifier__C': np.logspace(-6, 4, 20)\n",
        "         }\n",
        "\n",
        "grid = GridSearchCV(estimator=log_reg_pipeline, cv = 10, param_grid=params)\n",
        "\n",
        "grid.fit(X_train, y_train) \n",
        "y_train_pred = grid.predict(X_train)\n",
        "y_test_pred = grid.predict(X_test)\n",
        "\n",
        "finish_time = time.time()\n",
        "elapsed_time = finish_time - starting_time\n",
        "\n",
        "display(Markdown(\n",
        "    \"### Αποτελέσματα λογιστικής παλινδρόμησης:\\n\" +\n",
        "    \"**Best lambda**: {:.3f}\".format(grid.best_params_['LogRegClassifier__C'])  + \"<br>\" +\n",
        "    \"**Test Set 1-Accuracy**: {:.2f}\".format(accuracy_score(y_test, y_test_pred)) + \"<br>\" +\n",
        "    \"**Time taken to execute**: {:.2f}\".format(elapsed_time) + \"<br>\"\n",
        "))"
      ]
    },
    {
      "cell_type": "markdown",
      "metadata": {
        "id": "P4NsBXHDRqpg"
      },
      "source": [
        "#4. PCA"
      ]
    },
    {
      "cell_type": "markdown",
      "metadata": {
        "id": "Go3Q5thfg17K"
      },
      "source": [
        "## Εφαρμογή PCA"
      ]
    },
    {
      "cell_type": "code",
      "execution_count": null,
      "metadata": {
        "colab": {
          "base_uri": "https://localhost:8080/"
        },
        "id": "RlVIGvMvRtSo",
        "outputId": "4bc2918f-d697-46bd-d8de-7e1f5c012f87"
      },
      "outputs": [
        {
          "output_type": "stream",
          "name": "stdout",
          "text": [
            "The number of components needed was: 48\n"
          ]
        }
      ],
      "source": [
        "from sklearn.decomposition import PCA\n",
        "\n",
        "pca = PCA(n_components = 0.8, svd_solver = 'full').fit(X_train)\n",
        "\n",
        "print(f\"The number of components needed was: {pca.n_components_}\")"
      ]
    },
    {
      "cell_type": "markdown",
      "metadata": {
        "id": "wwBqI3sng5uF"
      },
      "source": [
        "## Προβολή των δεδομένων στις νέες διαστάσεις"
      ]
    },
    {
      "cell_type": "code",
      "execution_count": null,
      "metadata": {
        "id": "NFW72UJtg-qj"
      },
      "outputs": [],
      "source": [
        "X_train_trans = pca.transform(X_train)\n",
        "X_test_trans = pca.transform(X_test)"
      ]
    },
    {
      "cell_type": "markdown",
      "metadata": {
        "id": "HWJ9-1SChXf4"
      },
      "source": [
        "## Εφαρμογή των δεδομένων σε Log. Regression"
      ]
    },
    {
      "cell_type": "code",
      "execution_count": null,
      "metadata": {
        "colab": {
          "base_uri": "https://localhost:8080/",
          "height": 118
        },
        "id": "vrRv8Q-7hhDk",
        "outputId": "4a300ece-b79d-403d-f05b-0228f54fb0cb"
      },
      "outputs": [
        {
          "output_type": "display_data",
          "data": {
            "text/plain": [
              "<IPython.core.display.Markdown object>"
            ],
            "text/markdown": "### Αποτελέσματα λογιστικής παλινδρόμησης:\n**Best lambda**: 0.616<br>**Test Set 1-Accuracy**: 0.94<br>**Time taken to execute**: 986.84<br>"
          },
          "metadata": {}
        }
      ],
      "source": [
        "scaler_tans = StandardScaler().fit(X_train_trans)\n",
        "X_train_trans = scaler_tans.transform(X_train_trans)\n",
        "X_test_trans = scaler_tans.transform(X_test_trans)\n",
        "\n",
        "starting_time = time.time()\n",
        "\n",
        "log_reg_pipeline=Pipeline([('Scaler',  StandardScaler()),\n",
        "            ('LogRegClassifier', LogisticRegression(max_iter=10000))])\n",
        "\n",
        "\n",
        "params = { \n",
        "            'LogRegClassifier__C': np.logspace(-6, 4, 20)\n",
        "         }\n",
        "\n",
        "\n",
        "grid = GridSearchCV(estimator=log_reg_pipeline, cv = 10, param_grid=params)\n",
        "\n",
        "grid.fit(X_train_trans, y_train) \n",
        "y_train_pred = grid.predict(X_train_trans)\n",
        "y_test_pred = grid.predict(X_test_trans)\n",
        "\n",
        "finish_time = time.time()\n",
        "elapsed_time = finish_time - starting_time\n",
        "\n",
        "display(Markdown(\n",
        "    \"### Αποτελέσματα λογιστικής παλινδρόμησης:\\n\" +\n",
        "    \"**Best lambda**: {:.3f}\".format(grid.best_params_['LogRegClassifier__C'])  + \"<br>\" +\n",
        "    \"**Test Set 1-Accuracy**: {:.2f}\".format(accuracy_score(y_test, y_test_pred)) + \"<br>\" +\n",
        "    \"**Time taken to execute**: {:.2f}\".format(elapsed_time) + \"<br>\"\n",
        "))"
      ]
    },
    {
      "cell_type": "markdown",
      "source": [
        "Υπήρξε τρομερό όφελος στον χρόνο εκπαίδευσης, καθώς σε 10000 max_iter η λογιστική παλινδρόμηση μετά την μείωση των διαστάσεων έκανε μολις 986.84 sec. Ενώ πριν την χρήση του PCA με μόλις το 1/10 του αριθμού των max_iter έκανε 2148.08 sec. (Τρέμω να βάλω τον ίδιο αριθμό max_iter και στην πρώτη εφαρμογή της λογιστικής παλινδρόμησης αλλά νομίζω τα αποτελέσματα θα ήταν ολοφάνερα)\n",
        "\n",
        "Το Error Rate απο όσο φαίνεται δεν είχε μείωση "
      ],
      "metadata": {
        "id": "KysT7xnePdsV"
      }
    },
    {
      "cell_type": "code",
      "source": [],
      "metadata": {
        "id": "dSCR1Z94QfUM"
      },
      "execution_count": null,
      "outputs": []
    }
  ],
  "metadata": {
    "colab": {
      "provenance": []
    },
    "kernelspec": {
      "display_name": "Python 3",
      "name": "python3"
    },
    "language_info": {
      "name": "python"
    }
  },
  "nbformat": 4,
  "nbformat_minor": 0
}